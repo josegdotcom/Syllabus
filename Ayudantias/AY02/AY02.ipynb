{
 "cells": [
  {
   "cell_type": "markdown",
   "id": "92b252f3-8dca-4967-a88f-a6c9a3fa1585",
   "metadata": {},
   "source": [
    "# Ayudantia 02 : Estructuras de Datos"
   ]
  },
  {
   "cell_type": "markdown",
   "id": "1dd7ed22-b665-43a1-a456-bf46851e3eee",
   "metadata": {},
   "source": [
    "## Ayudantes\n",
    "\n",
    "* Julio Huerta\n",
    "* Felipe Vidal\n",
    "* Diego Toledo\n",
    "* Alejandro Held\n",
    "* Clemente Campos"
   ]
  },
  {
   "cell_type": "markdown",
   "id": "c296171e-9cb2-4301-8e05-cb88ecc48325",
   "metadata": {},
   "source": [
    "## ¿ Que son las EDDs ?\n",
    "\n",
    "Las **estructuras de datos** son formas de organizar y almacenar información en la memoria de una computadora para que sea fácil de acceder y manejar. Cada tipo de estructura tiene sus propias ventajas dependiendo de cómo se necesite acceder o modificar los datos. Podemos clasificarlas en dos grandes categorias:\n",
    "\n",
    "1. **Secuenciales:** Corresponden a estructuras basadas en un ordenamiento secuencial de sus elementos, tipicamente se almacenan uno después del otro, en un orden específico segun como son ingresados. Permiten un acceso rápido y directo a cada elemento mediante su índice. Algunas estructuras de ejemplo en python son: `tuple`, `list` y `str`\n",
    "\n",
    "2. **No Secuenciales:** Son aquellas estructuras donde los elementos no se almacenan en posiciones contiguas en la memoria, por lo cual sus elementos no estan en un orden fijo. A diferencia de las estructuras secuenciales, estas no permiten un recorrido en orden de la estructura. A pesar de esto, son muy eficiente en la búsqueda de datos. En python tenemos ejemplos como: `dict` y `set`\n",
    "\n"
   ]
  },
  {
   "cell_type": "markdown",
   "id": "4fb93d1a-ec2e-4d64-82eb-5db551b816b2",
   "metadata": {},
   "source": [
    "### Tuplas\n",
    "Es una secuencia ordenanda de elementos **inmutable**, es decir, no pueden modificarse una vez creadas. Es útil para almacenar datos que no deben modificarse a lo largo del programa. Puede contener datos de distinto tipos."
   ]
  },
  {
   "cell_type": "code",
   "execution_count": 7,
   "id": "461502d3-ec55-45c3-bb20-2b69c24c5312",
   "metadata": {},
   "outputs": [
    {
     "name": "stdout",
     "output_type": "stream",
     "text": [
      "(0, '1', 2.0)\n",
      "(0, '1')\n",
      "(0,)\n"
     ]
    }
   ],
   "source": [
    "# Creacion de Tuplas\n",
    "a = (0, \"1\", 2.0)\n",
    "\n",
    "b = 0, \"1\"\n",
    "\n",
    "# tupla de un elemento\n",
    "c = (0,)\n",
    "\n",
    "print(a)\n",
    "print(b)\n",
    "print(c)"
   ]
  },
  {
   "cell_type": "markdown",
   "id": "2ad8ab33-b72f-4559-8a87-bf4bb1bff668",
   "metadata": {},
   "source": [
    " Al ser inmutables, el programa arrojara un error al intentar modificarlas"
   ]
  },
  {
   "cell_type": "code",
   "execution_count": 8,
   "id": "a6fe597e-dc74-472d-8a69-fac7223c0c19",
   "metadata": {},
   "outputs": [
    {
     "ename": "AttributeError",
     "evalue": "'tuple' object has no attribute 'append'",
     "output_type": "error",
     "traceback": [
      "\u001b[0;31m---------------------------------------------------------------------------\u001b[0m",
      "\u001b[0;31mAttributeError\u001b[0m                            Traceback (most recent call last)",
      "Cell \u001b[0;32mIn[8], line 2\u001b[0m\n\u001b[1;32m      1\u001b[0m a \u001b[38;5;241m=\u001b[39m \u001b[38;5;28mtuple\u001b[39m()\n\u001b[0;32m----> 2\u001b[0m \u001b[43ma\u001b[49m\u001b[38;5;241;43m.\u001b[39;49m\u001b[43mappend\u001b[49m(\u001b[38;5;241m0\u001b[39m)\n",
      "\u001b[0;31mAttributeError\u001b[0m: 'tuple' object has no attribute 'append'"
     ]
    }
   ],
   "source": [
    "a = tuple()\n",
    "a.append(0)"
   ]
  },
  {
   "cell_type": "markdown",
   "id": "7c9b70dc-fcab-4ee0-9b05-8007f4e09cb1",
   "metadata": {},
   "source": [
    "\n",
    "Al ser secuenciales como las listas y los strings, permiten trabajar con indice y notación slicing.\n"
   ]
  },
  {
   "cell_type": "code",
   "execution_count": 11,
   "id": "a49850dd-3599-4e80-ae9b-e15deafb0f37",
   "metadata": {},
   "outputs": [
    {
     "name": "stdout",
     "output_type": "stream",
     "text": [
      "tupla: (0, 1, 2, 3, 4, 5, 6, 7, 8, 9)\n",
      "tupla[9] = 9\n",
      "tupla[0:5] = (0, 1, 2, 3, 4)\n",
      "tupla[0:8:2] = (0, 2, 4, 6)\n",
      "tupla[5:] = (5, 6, 7, 8, 9)\n",
      "tupla[:5] = (0, 1, 2, 3, 4)\n",
      "tupla[::-1] = (9, 8, 7, 6, 5, 4, 3, 2, 1, 0)\n",
      "tupla[:-1] = 9\n"
     ]
    }
   ],
   "source": [
    "tupla = (0, 1, 2, 3, 4, 5, 6, 7, 8, 9)\n",
    "print(f\"tupla: {tupla}\")\n",
    "\n",
    "# Acceso por indice\n",
    "a = tupla[9]\n",
    "print(f\"tupla[9] = {a}\")\n",
    "\n",
    "# elemento entre indices\n",
    "a = tupla[0:5]\n",
    "print(f\"tupla[0:5] = {a}\")\n",
    "\n",
    "# elementos entre indices con saltos (2 en este caso)\n",
    "a = tupla[0:8:2]\n",
    "print(f\"tupla[0:8:2] = {a}\")\n",
    "\n",
    "# elementos desde cierto indice hacia adelante o atras\n",
    "a = tupla[5:]\n",
    "b = tupla[:5]\n",
    "print(f\"tupla[5:] = {a}\")\n",
    "print(f\"tupla[:5] = {b}\")\n",
    "\n",
    "# inversion de la tupla\n",
    "a = tupla[::-1]\n",
    "print(f\"tupla[::-1] = {a}\")\n",
    "\n",
    "# ultimo elemento\n",
    "a = tupla[-1]\n",
    "print(f\"tupla[:-1] = {a}\")"
   ]
  },
  {
   "cell_type": "markdown",
   "id": "0c3fb800-c74c-4445-a484-3fe2fe619c79",
   "metadata": {},
   "source": [
    "### Stacks\n",
    "Es una estructura de datos que sigue el principio **Lifo** (Last In, First Out), donde el último elemento agregado es el primero en ser retirado. Es util para manejar situaciones donde el orden de las operaciones es importante, como el historial de los navegadores web o en la reversión de acciones (`ctrl + z`). En Python podemos representar Stacks mediante listas."
   ]
  },
  {
   "cell_type": "code",
   "execution_count": 17,
   "id": "c3059b26-af5c-47e3-b205-78178050fb77",
   "metadata": {},
   "outputs": [
    {
     "name": "stdout",
     "output_type": "stream",
     "text": [
      "stack: []\n",
      "stack: [0, 1, 2]\n",
      "Pop: 2\n",
      "stack: [0, 1]\n",
      "Peek: 1\n",
      "stack: [0, 1]\n"
     ]
    }
   ],
   "source": [
    "# Crear Stack\n",
    "stack = []\n",
    "print(f\"stack: {stack}\")\n",
    "\n",
    "# Push: agregar un elemento al stack\n",
    "stack.append(0)\n",
    "stack.append(1)\n",
    "stack.append(2)\n",
    "print(f\"stack: {stack}\")\n",
    "\n",
    "# Pop: sacar y retornar el ultimo elemento del stack\n",
    "ultimo = stack.pop()\n",
    "print(f\"Pop: {ultimo}\")\n",
    "print(f\"stack: {stack}\")\n",
    "\n",
    "# Peek: retorna el ultimo elemento del stack sin extraerlo\n",
    "peek = stack[-1]\n",
    "print(f\"Peek: {peek}\")\n",
    "print(f\"stack: {stack}\")\n"
   ]
  },
  {
   "cell_type": "markdown",
   "id": "25a03a03-5f7e-4620-a53c-117856973e23",
   "metadata": {},
   "source": [
    "### Colas\n",
    "Es una estructura de datos que sigue el principio **FIFO** (First In, First Out), donde el primer elemento agregado es el primero en ser retirado. Es similar a una fila en la vida real, donde el primero en llegar es el primero en ser atendido, son por lo tanto muy utilizadas en sistemas de atención al cliente. La implementación en Python viene dado por la clase `deque` del módulo `collections`."
   ]
  },
  {
   "cell_type": "code",
   "execution_count": 21,
   "id": "510f380b-d461-4269-a027-edbd6404f25a",
   "metadata": {},
   "outputs": [
    {
     "name": "stdout",
     "output_type": "stream",
     "text": [
      "cola: deque([])\n",
      "cola: deque([1, 2, 3])\n",
      "elemento extraido: 1\n",
      "cola: deque([2, 3])\n"
     ]
    }
   ],
   "source": [
    "# Creacion de una cola\n",
    "from collections import deque\n",
    "\n",
    "cola = deque()\n",
    "print(f\"cola: {cola}\")\n",
    "\n",
    "\n",
    "# Enqueue: Agrega elementos al final de la cola\n",
    "cola.append(1)\n",
    "cola.append(2)\n",
    "cola.append(3)\n",
    "print(f\"cola: {cola}\")\n",
    "\n",
    "# Dequeue: Extraer y retornar el primer elemento de la cola\n",
    "primero = cola.popleft()\n",
    "print(f\"elemento extraido: {primero}\")\n",
    "print(f\"cola: {cola}\")"
   ]
  },
  {
   "cell_type": "markdown",
   "id": "bc6ad84a-551e-43f4-a6fc-d434e187577b",
   "metadata": {},
   "source": [
    "### Sets\n",
    "Un `set` en Python es una colección desordenada de elementos únicos. Al ser una colección desordenada, no admite acceso por indice o notación slicing. Los sets son útiles cuando necesitas asegurarte de que no haya duplicados en una colección de datos, ademas son particularmente eficientes al realizar operaciones matemáticas de conjuntos como puede ser intersecciones, uniones o chequear si un elemento esta en el conjunto."
   ]
  },
  {
   "cell_type": "code",
   "execution_count": 58,
   "id": "9acf1552-bdc6-4e7d-85f3-88e56fc2e539",
   "metadata": {},
   "outputs": [
    {
     "name": "stdout",
     "output_type": "stream",
     "text": [
      "set()\n",
      "{'Clemente', 'Felipe', 'Diego', 'Julio', 'Alejandro'}\n"
     ]
    }
   ],
   "source": [
    "# Crear un set vacio\n",
    "conjunto = set()\n",
    "\n",
    "print(conjunto)\n",
    "\n",
    "# Agregar elementos\n",
    "conjunto.add(\"Julio\")\n",
    "conjunto.add(\"Felipe\")\n",
    "conjunto.add(\"Diego\")\n",
    "conjunto.add(\"Alejandro\")\n",
    "conjunto.add(\"Clemente\")\n",
    "\n",
    "print(conjunto)"
   ]
  },
  {
   "cell_type": "code",
   "execution_count": 60,
   "id": "516e30a0-72f4-4083-927a-09b9ad9330e4",
   "metadata": {},
   "outputs": [
    {
     "name": "stdout",
     "output_type": "stream",
     "text": [
      "{'Clemente', 'Felipe', 'Diego', 'Julio', 'Alejandro'}\n"
     ]
    }
   ],
   "source": [
    "# En el set no existen elementos duplicados\n",
    "conjunto = {\"Julio\", \"Clemente\", \"Julio\", \"Julio\", \"Diego\", 'Julio', 'Alejandro', \"Julio\", \"Felipe\"}\n",
    "\n",
    "print(conjunto)"
   ]
  },
  {
   "cell_type": "code",
   "execution_count": 66,
   "id": "48e43534-e340-4bb9-b79a-43f21949d93b",
   "metadata": {},
   "outputs": [
    {
     "name": "stdout",
     "output_type": "stream",
     "text": [
      "Clemente esta en catedra?: True\n",
      "Clemente es coordinador?: False\n",
      "ayudantes: {'Amanda', 'Clemente', 'Felipe', 'Catalina', 'Diego', 'Julio', 'Patricio', 'Pia', 'Alejandro'}\n",
      "Algun coordinador es ayudante de catedra? {'Julio'}\n",
      "Ayudantes de catedra que no son coordinadores: {'Diego', 'Clemente', 'Felipe', 'Alejandro'}\n"
     ]
    }
   ],
   "source": [
    "# Operaciones matematicas extremadamente eficientes\n",
    "catedra = {'Clemente', 'Felipe', 'Diego', 'Julio', 'Alejandro'}\n",
    "coordinadores = {'Catalina', 'Pia', 'Patricio', 'Amanda', 'Julio'}\n",
    "\n",
    "# Pertenencia al conjunto\n",
    "condicion1 = \"Clemente\" in catedra\n",
    "print(f\"Clemente esta en catedra?: {condicion1}\")\n",
    "condicion2 = \"Clemente\" in coordinadores\n",
    "print(f\"Clemente es coordinador?: {condicion2}\")\n",
    "\n",
    "# Union de conjuntos\n",
    "ayudantes = catedra | coordinadores\n",
    "print(f\"ayudantes: {ayudantes}\")\n",
    "\n",
    "# Interseccion de conjuntos\n",
    "interseccion = catedra & coordinadores\n",
    "print(f\"Algun coordinador es ayudante de catedra? {interseccion}\")\n",
    "\n",
    "# Diferencia de conjuntos\n",
    "diferencia = catedra - coordinadores\n",
    "print(f\"Ayudantes de catedra que no son coordinadores: {diferencia}\")"
   ]
  },
  {
   "cell_type": "markdown",
   "id": "7d8b73b8-20c2-4722-9311-340dff57aad3",
   "metadata": {},
   "source": [
    "### Diccionarios\n",
    "Es una estructura de datos que almacena pares **llave-valor**, donde cada llave es única y se asocia a un valor específico. En lugar de acceder a los elementos por un índice numérico, como en listas o tuplas, se accede a los valores utilizando las claves, lo que permite búesquedas rápidas y eficientes. Por lo tanto los diccionarios son especialmente utiles para almacenar datos donde cada elemento tiene una llave única (como el sistema de rut o numero de alumno) o al contar la recurrencia de palabras en un texto. En python son implementados por medios de la clase `dict`."
   ]
  },
  {
   "cell_type": "code",
   "execution_count": 27,
   "id": "12ec658c-0db4-4d16-b63a-8990a5157fed",
   "metadata": {},
   "outputs": [
    {
     "name": "stdout",
     "output_type": "stream",
     "text": [
      "Plan Comun: {}\n",
      "Plan Comun: {'MAT1610': 'Calculo1', 'MAT1203': 'Algebra Lineal', 'ICS1113': 'Optimizacion', 'QIM100I': 'Quimica General'}\n",
      "Cursos DCC: {'IIC2233': 'Programacion Avanzada', 'IIC1253': 'Matematicas Discretas', 'IIC2143': 'Ingenieria de Software', 'IIC2613': 'Inteligencia Artificial'}\n"
     ]
    }
   ],
   "source": [
    "# Creacion de un diccionario vacio\n",
    "plan_comun = dict()\n",
    "plan_comun = {}\n",
    "\n",
    "print(f\"Plan Comun: {plan_comun}\")\n",
    "\n",
    "\n",
    "# Agregar elementos al diccionario\n",
    "plan_comun[\"MAT1610\"] = \"Calculo1\"\n",
    "plan_comun[\"MAT1203\"] = \"Algebra Lineal\"\n",
    "plan_comun[\"ICS1113\"] = \"Optimizacion\"\n",
    "plan_comun[\"QIM100I\"] = \"Quimica General\"\n",
    "print(f\"Plan Comun: {plan_comun}\")\n",
    "\n",
    "\n",
    "# Creacion de un diccionario con datos\n",
    "cursos_dcc = {\"IIC2233\" : \"Programacion Avanzada\",\n",
    "          \"IIC1253\" : \"Matematicas Discretas\",\n",
    "          \"IIC2143\" : \"Ingenieria de Software\",\n",
    "          \"IIC2613\" : \"Inteligencia Artificial\"}\n",
    "\n",
    "print(f\"Cursos DCC: {cursos_dcc}\")"
   ]
  },
  {
   "cell_type": "markdown",
   "id": "b57448ab-2061-4954-92d7-9a9397a76669",
   "metadata": {},
   "source": [
    "#### Elementos permitidos en el diccionario"
   ]
  },
  {
   "cell_type": "markdown",
   "id": "07563fcb-6b0e-4bd4-ad8a-2fd27c2c0d57",
   "metadata": {},
   "source": [
    "* **Valores:** A diferencia de otros lenguajes, en Python los valores del diccionario pueden ser de todo tipo, tanto de objetos build-in, como en objetos creados por el programador.\n",
    "  \n",
    "* **LLaves:** Python solo permite ciertos datos como posibles llaves en el diccionario. En particular se busque que las llaves sean:\n",
    "\n",
    "    1. *Unicas*: ya que al tener llaves con el mismo valor, puede llevar a errores como que dos valores diferentes sean asociadas a la misma llave\n",
    "    2. *Hasheables*: Es un concepto deficil de definir (para más información ver los contenidos :D), pero lo que más nos importara, es que sean  no mutables. Esto significa que objetos como `int`, `str` y `tuple` puden usarse como llaves, mientras que `list` no puede ser usado."
   ]
  },
  {
   "cell_type": "code",
   "execution_count": 26,
   "id": "58ec78f8-6e9d-4b4f-8056-22d05a6bf03d",
   "metadata": {},
   "outputs": [
    {
     "name": "stdout",
     "output_type": "stream",
     "text": [
      "{'lista': (0, 1, 2, 3), 'Sigla': 'IIC2233', 'Diccionario': {}}\n"
     ]
    }
   ],
   "source": [
    "# Diccionario con diferentes valores\n",
    "diccionario = {\"lista\" : (0, 1, 2, 3),\n",
    "               \"Sigla\" : \"IIC2233\",\n",
    "               \"Diccionario\" : {}}\n",
    "\n",
    "print(diccionario)"
   ]
  },
  {
   "cell_type": "code",
   "execution_count": 31,
   "id": "9e9eea80-7246-4746-be8c-1e19e47afcc9",
   "metadata": {},
   "outputs": [
    {
     "name": "stdout",
     "output_type": "stream",
     "text": [
      "{1: 'Primero', '2': 'Segundo', (3,): 'Tercero'}\n",
      "Tercero\n"
     ]
    }
   ],
   "source": [
    "# Diccionario con diferentes llaves\n",
    "diccionario = {1 : \"Primero\",\n",
    "               \"2\" : \"Segundo\",\n",
    "               (3,) : \"Tercero\"}\n",
    "\n",
    "print(diccionario)\n",
    "print(diccionario[(3,)])"
   ]
  },
  {
   "cell_type": "markdown",
   "id": "15db7d1d-b1b0-43a7-ae05-fc500559c559",
   "metadata": {},
   "source": [
    "#### Metodos del diccionario\n",
    "Algunos métodos útiles del diccionario son:"
   ]
  },
  {
   "cell_type": "code",
   "execution_count": 32,
   "id": "3a745589-ace1-4874-92ea-cd7d1daa767e",
   "metadata": {},
   "outputs": [
    {
     "name": "stdout",
     "output_type": "stream",
     "text": [
      "dict_keys(['IIC2233', 'IIC1253', 'IIC2143', 'IIC2613'])\n",
      "dict_values(['Programacion Avanzada', 'Matematicas Discretas', 'Ingenieria de Software', 'Inteligencia Artificial'])\n",
      "dict_items([('IIC2233', 'Programacion Avanzada'), ('IIC1253', 'Matematicas Discretas'), ('IIC2143', 'Ingenieria de Software'), ('IIC2613', 'Inteligencia Artificial')])\n"
     ]
    }
   ],
   "source": [
    "# Obtener las llaves de un diccionario\n",
    "llaves = cursos_dcc.keys()\n",
    "print(llaves)\n",
    "\n",
    "# Obtener los valores de un diccionario\n",
    "valores = cursos_dcc.values()\n",
    "print(valores)\n",
    "\n",
    "# Obtener los item (llave, valor) del diccionario\n",
    "items = cursos_dcc.items()\n",
    "print(items)"
   ]
  },
  {
   "cell_type": "markdown",
   "id": "fdd787c4-ce6d-4479-84e6-180c0de64dd5",
   "metadata": {},
   "source": [
    "#### Iteración en un diccionario\n",
    "Si iteramos sobre un diccionario en un ciclo `for` la iteración se realizara sobre las llaves del diccionario."
   ]
  },
  {
   "cell_type": "code",
   "execution_count": 33,
   "id": "017282fd-60a3-450f-92fa-a69d3669a891",
   "metadata": {},
   "outputs": [
    {
     "name": "stdout",
     "output_type": "stream",
     "text": [
      "llave: IIC2233\n",
      "valor asociado: Programacion Avanzada\n",
      "llave: IIC1253\n",
      "valor asociado: Matematicas Discretas\n",
      "llave: IIC2143\n",
      "valor asociado: Ingenieria de Software\n",
      "llave: IIC2613\n",
      "valor asociado: Inteligencia Artificial\n"
     ]
    }
   ],
   "source": [
    "for llave in cursos_dcc:\n",
    "    print(f\"llave: {llave}\")\n",
    "    print(f\"valor asociado: {cursos_dcc[llave]}\")"
   ]
  },
  {
   "cell_type": "markdown",
   "id": "35226a4b-9cd2-4678-85e9-e529827bffc1",
   "metadata": {},
   "source": [
    "### Named Tuples\n",
    "Son una extensión de las tuplas regulares, que permiten nombrar cada uno de los elementos de la tupla, dándoles una etiqueta que facilita el acceso y la comprensión del codigo. En lugar de acceder a los elementos por su posición, se accede por un nombre (como en los objetos), lo que hace que el codigo sea más legigle y claro."
   ]
  },
  {
   "cell_type": "code",
   "execution_count": 38,
   "id": "a865dff9-8c13-4f99-a672-e29a4c4c196b",
   "metadata": {},
   "outputs": [
    {
     "name": "stdout",
     "output_type": "stream",
     "text": [
      "NamedTuple:  Curso_type(sigla='IIC2233', nombre='Programación Avanzada', profesor='Cristian Ruz', cupos=100)\n",
      "Sigla:  IIC2233\n",
      "Nombre:  Programación Avanzada\n",
      "Profesor:  Cristian Ruz\n"
     ]
    }
   ],
   "source": [
    "# Creacion de una named tuple\n",
    "from collections import namedtuple\n",
    "\n",
    "# Creamos el molde, parecido a definir una clase\n",
    "Curso = namedtuple(\"Curso_type\", [\"sigla\", \"nombre\", \"profesor\", \"cupos\"])\n",
    "\n",
    "# instanciacion de la named tuple, similar a crear un objeto de la clase\n",
    "avanzada = Curso(\"IIC2233\", \"Programación Avanzada\", \"Cristian Ruz\", 100)\n",
    "print(f\"NamedTuple:  {avanzada}\")\n",
    "\n",
    "# Ahora podemos acceder a sus atributos de la forma en que lo hacemos en objetos\n",
    "print(f\"Sigla:  {avanzada.sigla}\")\n",
    "print(f\"Nombre:  {avanzada.nombre}\")\n",
    "print(f\"Profesor:  {avanzada.profesor}\")"
   ]
  },
  {
   "cell_type": "markdown",
   "id": "9ad8861b-f7aa-47ca-9792-326f21e2f000",
   "metadata": {},
   "source": [
    "Al igual que las tuplas, las named tuple son inmutables. Es decir, que si queremos modificarlas, obtendremos un error."
   ]
  },
  {
   "cell_type": "code",
   "execution_count": 39,
   "id": "bccd7c30-21b5-4d49-b106-1604d6e24e39",
   "metadata": {},
   "outputs": [
    {
     "ename": "AttributeError",
     "evalue": "can't set attribute",
     "output_type": "error",
     "traceback": [
      "\u001b[0;31m---------------------------------------------------------------------------\u001b[0m",
      "\u001b[0;31mAttributeError\u001b[0m                            Traceback (most recent call last)",
      "Cell \u001b[0;32mIn[39], line 1\u001b[0m\n\u001b[0;32m----> 1\u001b[0m \u001b[43mavanzada\u001b[49m\u001b[38;5;241;43m.\u001b[39;49m\u001b[43mprofesor\u001b[49m \u001b[38;5;241m=\u001b[39m \u001b[38;5;124m\"\u001b[39m\u001b[38;5;124mJulio Huerta\u001b[39m\u001b[38;5;124m\"\u001b[39m\n",
      "\u001b[0;31mAttributeError\u001b[0m: can't set attribute"
     ]
    }
   ],
   "source": [
    "avanzada.profesor = \"Julio Huerta\""
   ]
  },
  {
   "cell_type": "markdown",
   "id": "62f49960-3fdb-4fbe-8c80-e5fbcd595b46",
   "metadata": {},
   "source": [
    "### Argumentos\n",
    "Son los valores que se pasan a una función cuando se ejecuta, estos argumentos son utilizados por la función o método para realizar tareas especificas, podemos clasificarlos en dos tipos\n",
    "\n",
    "* **Argumentos posicionales** (`args`): son aquellos que se pasan a una función en un orden específico. El valor de cada argumento se asigna a un parámetro basado en su posición."
   ]
  },
  {
   "cell_type": "code",
   "execution_count": 1,
   "id": "ce6bb033-9201-446d-8341-b372d73ab05b",
   "metadata": {},
   "outputs": [
    {
     "name": "stdout",
     "output_type": "stream",
     "text": [
      "32\n"
     ]
    }
   ],
   "source": [
    "# funcion con argumentos posicionales\n",
    "def sumador(a, b, c):\n",
    "    return a + b**2 + c**3\n",
    "\n",
    "resultado = sumador(1, 2, 3)\n",
    "print(resultado)"
   ]
  },
  {
   "cell_type": "markdown",
   "id": "fbfe7e0c-a880-4f6b-90bc-d1e8c96cdbd8",
   "metadata": {},
   "source": [
    "* **Argumentos por palabra clave** (`kwars`): Son aquellos que se pasan a una función utilizando el nombre del parámetro. Esto permite especificar los valores sin tener que seguir el orden de los parámetros "
   ]
  },
  {
   "cell_type": "code",
   "execution_count": 2,
   "id": "19403b0a-8ec4-460c-966c-f5be04da5696",
   "metadata": {},
   "outputs": [
    {
     "name": "stdout",
     "output_type": "stream",
     "text": [
      "32\n"
     ]
    }
   ],
   "source": [
    "# funcion con argumentos por palabra clave\n",
    "resultado = sumador(c=3, b=2, a=1)\n",
    "print(resultado)"
   ]
  },
  {
   "cell_type": "markdown",
   "id": "14a87a3b-61c2-422b-ac3e-d82519dd5d3f",
   "metadata": {},
   "source": [
    "Es posible utilizar conjuntamente `args` y `kwargs`, pero se debe hacer en un orden especial. Este es: primero van todos los argumentos posicionales y luego aquellos por palabra clave, de otra forma, dara un error."
   ]
  },
  {
   "cell_type": "code",
   "execution_count": 45,
   "id": "6c03fd00-ffcd-4091-b00d-1c2f95964b86",
   "metadata": {},
   "outputs": [
    {
     "name": "stdout",
     "output_type": "stream",
     "text": [
      "32\n"
     ]
    }
   ],
   "source": [
    "resultado = sumador(1, c=3, b=2)\n",
    "print(resultado)"
   ]
  },
  {
   "cell_type": "code",
   "execution_count": 46,
   "id": "3d2b786f-2581-48e9-a3b7-78e95f293194",
   "metadata": {},
   "outputs": [
    {
     "ename": "SyntaxError",
     "evalue": "positional argument follows keyword argument (1867695460.py, line 1)",
     "output_type": "error",
     "traceback": [
      "\u001b[0;36m  Cell \u001b[0;32mIn[46], line 1\u001b[0;36m\u001b[0m\n\u001b[0;31m    resultado = sumador(C=3, 1, 2)\u001b[0m\n\u001b[0m                                 ^\u001b[0m\n\u001b[0;31mSyntaxError\u001b[0m\u001b[0;31m:\u001b[0m positional argument follows keyword argument\n"
     ]
    }
   ],
   "source": [
    "resultado = sumador(C=3, 1, 2)"
   ]
  },
  {
   "cell_type": "markdown",
   "id": "80c76001-5997-420d-8876-00d6b78fd644",
   "metadata": {},
   "source": [
    "### Desempaquetamiento de EDDs"
   ]
  },
  {
   "cell_type": "markdown",
   "id": "ab3da8b3-9d59-43c4-bd90-b0fb8e952e09",
   "metadata": {},
   "source": [
    "Es posible hacer un llamado a funciones que reciben multiples argumentos con los datos contenidos en una estructura, pero debemos tener cierto cuidado al hacerlo. Por ejemplo la función `randint` del modulo `random`, recibe dos argumentos donde `a` es el número menor y `b` el número mayor, la función retorna un `int` aleatorio entre este rango numerico."
   ]
  },
  {
   "cell_type": "code",
   "execution_count": 3,
   "id": "2727da4a-335f-4879-9b56-e37ed7914443",
   "metadata": {},
   "outputs": [
    {
     "name": "stdout",
     "output_type": "stream",
     "text": [
      "64\n"
     ]
    }
   ],
   "source": [
    "from random import randint, seed\n",
    "seed(2233) # para replicar resultados aleatorios\n",
    "\n",
    "numero = randint(0,100)\n",
    "print(numero)"
   ]
  },
  {
   "cell_type": "code",
   "execution_count": 4,
   "id": "bafc4add-92fc-4a99-bd27-24715fc7ec2a",
   "metadata": {},
   "outputs": [
    {
     "ename": "TypeError",
     "evalue": "Random.randint() missing 1 required positional argument: 'b'",
     "output_type": "error",
     "traceback": [
      "\u001b[0;31m---------------------------------------------------------------------------\u001b[0m",
      "\u001b[0;31mTypeError\u001b[0m                                 Traceback (most recent call last)",
      "Cell \u001b[0;32mIn[4], line 2\u001b[0m\n\u001b[1;32m      1\u001b[0m rango \u001b[38;5;241m=\u001b[39m (\u001b[38;5;241m0\u001b[39m, \u001b[38;5;241m100\u001b[39m)\n\u001b[0;32m----> 2\u001b[0m numero \u001b[38;5;241m=\u001b[39m \u001b[43mrandint\u001b[49m\u001b[43m(\u001b[49m\u001b[43mrango\u001b[49m\u001b[43m)\u001b[49m\n\u001b[1;32m      3\u001b[0m \u001b[38;5;28mprint\u001b[39m(numero)\n",
      "\u001b[0;31mTypeError\u001b[0m: Random.randint() missing 1 required positional argument: 'b'"
     ]
    }
   ],
   "source": [
    "rango = (0, 100)\n",
    "numero = randint(rango)\n",
    "print(numero)"
   ]
  },
  {
   "cell_type": "markdown",
   "id": "bb9a54ff-15b8-42ba-a425-0277eacbaee8",
   "metadata": {},
   "source": [
    "#### ¿ Que nos paso ?\n",
    "Lo que sucede, es que python detecta la tupla como un solo argumento, por lo tanto nos indica que le falta un segundo argumento `b`. Podemos solucionar esto por medio de los operadores `*`y `**`, los cuales nos permitiran desempacar el contenido de la estructura.\n",
    "\n",
    "* `*args`: Permite declarar una cantidad arbitraría de argumentos **posicionales**. Para esto debemos pasarle los argumentos *en el orden que los espera la funcion*\n",
    "* `**kwargs`: Permite declarar una cantidad arbitraría de argumentos **por palabra clave**. Para esto debemos usar *el nombre de los parametros de la funcion*"
   ]
  },
  {
   "cell_type": "code",
   "execution_count": 53,
   "id": "aa824d15-1f16-461c-9a39-977f7a6b876d",
   "metadata": {},
   "outputs": [
    {
     "name": "stdout",
     "output_type": "stream",
     "text": [
      "12\n"
     ]
    }
   ],
   "source": [
    "# Argumentos posicionales\n",
    "rango = (0, 100)\n",
    "numero = randint(*rango)\n",
    "print(numero)"
   ]
  },
  {
   "cell_type": "code",
   "execution_count": 54,
   "id": "087ede49-8773-4d17-bee1-f933d522b399",
   "metadata": {},
   "outputs": [
    {
     "ename": "ValueError",
     "evalue": "empty range for randrange() (100, 1, -99)",
     "output_type": "error",
     "traceback": [
      "\u001b[0;31m---------------------------------------------------------------------------\u001b[0m",
      "\u001b[0;31mValueError\u001b[0m                                Traceback (most recent call last)",
      "Cell \u001b[0;32mIn[54], line 2\u001b[0m\n\u001b[1;32m      1\u001b[0m rango \u001b[38;5;241m=\u001b[39m (\u001b[38;5;241m100\u001b[39m, \u001b[38;5;241m0\u001b[39m)\n\u001b[0;32m----> 2\u001b[0m numero \u001b[38;5;241m=\u001b[39m \u001b[43mrandint\u001b[49m\u001b[43m(\u001b[49m\u001b[38;5;241;43m*\u001b[39;49m\u001b[43mrango\u001b[49m\u001b[43m)\u001b[49m\n\u001b[1;32m      3\u001b[0m \u001b[38;5;28mprint\u001b[39m(numero)\n",
      "File \u001b[0;32m/Library/Frameworks/Python.framework/Versions/3.11/lib/python3.11/random.py:362\u001b[0m, in \u001b[0;36mRandom.randint\u001b[0;34m(self, a, b)\u001b[0m\n\u001b[1;32m    358\u001b[0m \u001b[38;5;28;01mdef\u001b[39;00m \u001b[38;5;21mrandint\u001b[39m(\u001b[38;5;28mself\u001b[39m, a, b):\n\u001b[1;32m    359\u001b[0m \u001b[38;5;250m    \u001b[39m\u001b[38;5;124;03m\"\"\"Return random integer in range [a, b], including both end points.\u001b[39;00m\n\u001b[1;32m    360\u001b[0m \u001b[38;5;124;03m    \"\"\"\u001b[39;00m\n\u001b[0;32m--> 362\u001b[0m     \u001b[38;5;28;01mreturn\u001b[39;00m \u001b[38;5;28;43mself\u001b[39;49m\u001b[38;5;241;43m.\u001b[39;49m\u001b[43mrandrange\u001b[49m\u001b[43m(\u001b[49m\u001b[43ma\u001b[49m\u001b[43m,\u001b[49m\u001b[43m \u001b[49m\u001b[43mb\u001b[49m\u001b[38;5;241;43m+\u001b[39;49m\u001b[38;5;241;43m1\u001b[39;49m\u001b[43m)\u001b[49m\n",
      "File \u001b[0;32m/Library/Frameworks/Python.framework/Versions/3.11/lib/python3.11/random.py:345\u001b[0m, in \u001b[0;36mRandom.randrange\u001b[0;34m(self, start, stop, step)\u001b[0m\n\u001b[1;32m    343\u001b[0m     \u001b[38;5;28;01mif\u001b[39;00m width \u001b[38;5;241m>\u001b[39m \u001b[38;5;241m0\u001b[39m:\n\u001b[1;32m    344\u001b[0m         \u001b[38;5;28;01mreturn\u001b[39;00m istart \u001b[38;5;241m+\u001b[39m \u001b[38;5;28mself\u001b[39m\u001b[38;5;241m.\u001b[39m_randbelow(width)\n\u001b[0;32m--> 345\u001b[0m     \u001b[38;5;28;01mraise\u001b[39;00m \u001b[38;5;167;01mValueError\u001b[39;00m(\u001b[38;5;124m\"\u001b[39m\u001b[38;5;124mempty range for randrange() (\u001b[39m\u001b[38;5;132;01m%d\u001b[39;00m\u001b[38;5;124m, \u001b[39m\u001b[38;5;132;01m%d\u001b[39;00m\u001b[38;5;124m, \u001b[39m\u001b[38;5;132;01m%d\u001b[39;00m\u001b[38;5;124m)\u001b[39m\u001b[38;5;124m\"\u001b[39m \u001b[38;5;241m%\u001b[39m (istart, istop, width))\n\u001b[1;32m    347\u001b[0m \u001b[38;5;66;03m# Non-unit step argument supplied.\u001b[39;00m\n\u001b[1;32m    348\u001b[0m \u001b[38;5;28;01mif\u001b[39;00m istep \u001b[38;5;241m>\u001b[39m \u001b[38;5;241m0\u001b[39m:\n",
      "\u001b[0;31mValueError\u001b[0m: empty range for randrange() (100, 1, -99)"
     ]
    }
   ],
   "source": [
    "# Error debido a que randint espera que a < b\n",
    "rango = (100, 0)\n",
    "numero = randint(*rango)\n",
    "print(numero)"
   ]
  },
  {
   "cell_type": "code",
   "execution_count": 55,
   "id": "3541f69c-1002-48df-9e06-195163b89138",
   "metadata": {},
   "outputs": [
    {
     "name": "stdout",
     "output_type": "stream",
     "text": [
      "26\n"
     ]
    }
   ],
   "source": [
    "# Argumentos por palabra clave\n",
    "valores = { \"a\": 0, \"b\": 100}\n",
    "numero = randint(**valores)\n",
    "print(numero)"
   ]
  },
  {
   "cell_type": "code",
   "execution_count": 56,
   "id": "ce8c3cf3-9800-4076-a1fd-05cd7c4f4e35",
   "metadata": {},
   "outputs": [
    {
     "ename": "TypeError",
     "evalue": "Random.randint() got an unexpected keyword argument 'c'",
     "output_type": "error",
     "traceback": [
      "\u001b[0;31m---------------------------------------------------------------------------\u001b[0m",
      "\u001b[0;31mTypeError\u001b[0m                                 Traceback (most recent call last)",
      "Cell \u001b[0;32mIn[56], line 3\u001b[0m\n\u001b[1;32m      1\u001b[0m \u001b[38;5;66;03m# Nombres que no espera la funcion\u001b[39;00m\n\u001b[1;32m      2\u001b[0m valores \u001b[38;5;241m=\u001b[39m { \u001b[38;5;124m\"\u001b[39m\u001b[38;5;124ma\u001b[39m\u001b[38;5;124m\"\u001b[39m: \u001b[38;5;241m0\u001b[39m, \u001b[38;5;124m\"\u001b[39m\u001b[38;5;124mc\u001b[39m\u001b[38;5;124m\"\u001b[39m: \u001b[38;5;241m100\u001b[39m}\n\u001b[0;32m----> 3\u001b[0m numero \u001b[38;5;241m=\u001b[39m \u001b[43mrandint\u001b[49m\u001b[43m(\u001b[49m\u001b[38;5;241;43m*\u001b[39;49m\u001b[38;5;241;43m*\u001b[39;49m\u001b[43mvalores\u001b[49m\u001b[43m)\u001b[49m\n\u001b[1;32m      4\u001b[0m \u001b[38;5;28mprint\u001b[39m(numero)\n",
      "\u001b[0;31mTypeError\u001b[0m: Random.randint() got an unexpected keyword argument 'c'"
     ]
    }
   ],
   "source": [
    "# Nombres que no espera la funcion\n",
    "valores = { \"a\": 0, \"c\": 100}\n",
    "numero = randint(**valores)\n",
    "print(numero)"
   ]
  }
 ],
 "metadata": {
  "kernelspec": {
   "display_name": "Python 3 (ipykernel)",
   "language": "python",
   "name": "python3"
  },
  "language_info": {
   "codemirror_mode": {
    "name": "ipython",
    "version": 3
   },
   "file_extension": ".py",
   "mimetype": "text/x-python",
   "name": "python",
   "nbconvert_exporter": "python",
   "pygments_lexer": "ipython3",
   "version": "3.11.7"
  }
 },
 "nbformat": 4,
 "nbformat_minor": 5
}
